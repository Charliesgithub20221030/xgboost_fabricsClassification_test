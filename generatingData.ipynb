{
 "cells": [
  {
   "cell_type": "code",
   "execution_count": 1,
   "metadata": {},
   "outputs": [],
   "source": [
    "# generate data in Fabrics_train_copy folder \n",
    "\n",
    "\n",
    "\n",
    "def generateData(path,current_num,max_num):\n",
    "    import Augmentor\n",
    "    import shutil\n",
    "    from pathlib import Path\n",
    "    import os\n",
    "\n",
    "    p = Augmentor.Pipeline(path)\n",
    "    # Now you can begin adding operations to the pipeline object:\n",
    "\n",
    "    p.rotate90(probability=0.5)\n",
    "    p.rotate270(probability=0.5)\n",
    "    p.flip_left_right(probability=0.8)\n",
    "    p.flip_top_bottom(probability=0.3)\n",
    "    p.crop_random(probability=1, percentage_area=0.5)\n",
    "    p.resize(probability=1.0, width=120, height=120)\n",
    "    # Once you have added the operations you require, you can sample images from this pipeline:\n",
    "    n=max_num-current_num\n",
    "    cn=current_num\n",
    "    p.sample(n)\n",
    "    \n",
    "#     move files from output to outside folder\n",
    "    p=Path(path+\"/output\")\n",
    "    for f in p.iterdir():\n",
    "        if f.name.endswith('.png'):\n",
    "\n",
    "            shutil.move(path+\"/output/\"+f.name,path+'/'+str(cn)+'.png')\n",
    "            cn+=1\n",
    "    os.rmdir(path+'/output')"
   ]
  },
  {
   "cell_type": "code",
   "execution_count": 2,
   "metadata": {},
   "outputs": [
    {
     "name": "stderr",
     "output_type": "stream",
     "text": [
      "Processing <PIL.Image.Image image mode=RGB size=120x120 at 0x1147060B8>:   0%|          | 0/2308 [00:00<?, ? Samples/s]"
     ]
    },
    {
     "name": "stdout",
     "output_type": "stream",
     "text": [
      "Initialised with 44 image(s) found.\n",
      "Output directory set to ./Fabrics_train_copy/Velvet/output."
     ]
    },
    {
     "name": "stderr",
     "output_type": "stream",
     "text": [
      "Processing <PIL.Image.Image image mode=RGB size=120x120 at 0x118F8D7F0>: 100%|██████████| 2308/2308 [00:20<00:00, 114.81 Samples/s]\n",
      "Executing Pipeline:   0%|          | 0/1992 [00:00<?, ? Samples/s]"
     ]
    },
    {
     "name": "stdout",
     "output_type": "stream",
     "text": [
      "Velvet done\n",
      "Initialised with 360 image(s) found.\n",
      "Output directory set to ./Fabrics_train_copy/Wool/output."
     ]
    },
    {
     "name": "stderr",
     "output_type": "stream",
     "text": [
      "Processing <PIL.Image.Image image mode=RGB size=120x120 at 0x118EA8780>: 100%|██████████| 1992/1992 [00:17<00:00, 114.82 Samples/s]\n",
      "Executing Pipeline:   0%|          | 0/2220 [00:00<?, ? Samples/s]"
     ]
    },
    {
     "name": "stdout",
     "output_type": "stream",
     "text": [
      "Wool done\n",
      "Initialised with 132 image(s) found.\n",
      "Output directory set to ./Fabrics_train_copy/Fleece/output."
     ]
    },
    {
     "name": "stderr",
     "output_type": "stream",
     "text": [
      "Processing <PIL.Image.Image image mode=RGB size=120x120 at 0x11C5763C8>: 100%|██████████| 2220/2220 [00:19<00:00, 114.65 Samples/s]\n",
      "Executing Pipeline:   0%|          | 0/2336 [00:00<?, ? Samples/s]"
     ]
    },
    {
     "name": "stdout",
     "output_type": "stream",
     "text": [
      "Fleece done\n",
      "Initialised with 16 image(s) found.\n",
      "Output directory set to ./Fabrics_train_copy/Felt/output."
     ]
    },
    {
     "name": "stderr",
     "output_type": "stream",
     "text": [
      "Processing <PIL.Image.Image image mode=RGB size=120x120 at 0x118E9A550>: 100%|██████████| 2336/2336 [00:21<00:00, 108.49 Samples/s]\n",
      "Executing Pipeline:   0%|          | 0/2340 [00:00<?, ? Samples/s]"
     ]
    },
    {
     "name": "stdout",
     "output_type": "stream",
     "text": [
      "Felt done\n",
      "Initialised with 12 image(s) found.\n",
      "Output directory set to ./Fabrics_train_copy/Artificial_leather/output."
     ]
    },
    {
     "name": "stderr",
     "output_type": "stream",
     "text": [
      "Processing <PIL.Image.Image image mode=RGB size=120x120 at 0x1192384A8>: 100%|██████████| 2340/2340 [00:21<00:00, 108.41 Samples/s]\n",
      "Executing Pipeline:   0%|          | 0/2204 [00:00<?, ? Samples/s]"
     ]
    },
    {
     "name": "stdout",
     "output_type": "stream",
     "text": [
      "Artificial_leather done\n",
      "Initialised with 148 image(s) found.\n",
      "Output directory set to ./Fabrics_train_copy/Viscose/output."
     ]
    },
    {
     "name": "stderr",
     "output_type": "stream",
     "text": [
      "Processing <PIL.Image.Image image mode=RGB size=120x120 at 0x118EBA198>: 100%|██████████| 2204/2204 [00:19<00:00, 111.35 Samples/s]\n"
     ]
    },
    {
     "name": "stdout",
     "output_type": "stream",
     "text": [
      "Viscose done\n"
     ]
    },
    {
     "name": "stderr",
     "output_type": "stream",
     "text": [
      "\r",
      "Executing Pipeline:   0%|          | 0/1448 [00:00<?, ? Samples/s]"
     ]
    },
    {
     "name": "stdout",
     "output_type": "stream",
     "text": [
      "Initialised with 904 image(s) found.\n",
      "Output directory set to ./Fabrics_train_copy/Polyester/output."
     ]
    },
    {
     "name": "stderr",
     "output_type": "stream",
     "text": [
      "Processing <PIL.Image.Image image mode=RGB size=120x120 at 0x119141E48>: 100%|██████████| 1448/1448 [00:12<00:00, 113.62 Samples/s]\n"
     ]
    },
    {
     "name": "stdout",
     "output_type": "stream",
     "text": [
      "Polyester done\n"
     ]
    },
    {
     "name": "stderr",
     "output_type": "stream",
     "text": [
      "Processing <PIL.Image.Image image mode=RGB size=120x120 at 0x119220EF0>:   0%|          | 5/2352 [00:00<04:39,  8.39 Samples/s]"
     ]
    },
    {
     "name": "stdout",
     "output_type": "stream",
     "text": [
      "Initialised with 2352 image(s) found.\n",
      "Output directory set to ./Fabrics_train_copy/Cotton/output."
     ]
    },
    {
     "name": "stderr",
     "output_type": "stream",
     "text": [
      "Processing <PIL.Image.Image image mode=RGB size=120x120 at 0x118F3AA90>: 100%|██████████| 2352/2352 [00:19<00:00, 117.78 Samples/s]\n",
      "Executing Pipeline:   0%|          | 0/2300 [00:00<?, ? Samples/s]"
     ]
    },
    {
     "name": "stdout",
     "output_type": "stream",
     "text": [
      "Cotton done\n",
      "Initialised with 52 image(s) found.\n",
      "Output directory set to ./Fabrics_train_copy/Chenille/output."
     ]
    },
    {
     "name": "stderr",
     "output_type": "stream",
     "text": [
      "Processing <PIL.Image.Image image mode=RGB size=120x120 at 0x118ED27F0>: 100%|██████████| 2300/2300 [00:19<00:00, 115.21 Samples/s]\n"
     ]
    },
    {
     "name": "stdout",
     "output_type": "stream",
     "text": [
      "Chenille done\n"
     ]
    },
    {
     "name": "stderr",
     "output_type": "stream",
     "text": [
      "\r",
      "Executing Pipeline:   0%|          | 0/1860 [00:00<?, ? Samples/s]"
     ]
    },
    {
     "name": "stdout",
     "output_type": "stream",
     "text": [
      "Initialised with 492 image(s) found.\n",
      "Output directory set to ./Fabrics_train_copy/Unclassified/output."
     ]
    },
    {
     "name": "stderr",
     "output_type": "stream",
     "text": [
      "Processing <PIL.Image.Image image mode=RGB size=120x120 at 0x11C570400>: 100%|██████████| 1860/1860 [00:16<00:00, 114.88 Samples/s]\n"
     ]
    },
    {
     "name": "stdout",
     "output_type": "stream",
     "text": [
      "Unclassified done\n"
     ]
    },
    {
     "name": "stderr",
     "output_type": "stream",
     "text": [
      "Processing <PIL.Image.Image image mode=RGB size=120x120 at 0x118F80748>:   0%|          | 0/707 [00:00<?, ? Samples/s]"
     ]
    },
    {
     "name": "stdout",
     "output_type": "stream",
     "text": [
      "Initialised with 1645 image(s) found.\n",
      "Output directory set to ./Fabrics_train_copy/Blended/output."
     ]
    },
    {
     "name": "stderr",
     "output_type": "stream",
     "text": [
      "Processing <PIL.Image.Image image mode=RGB size=120x120 at 0x118F80630>: 100%|██████████| 707/707 [00:06<00:00, 106.29 Samples/s]\n",
      "Executing Pipeline:   0%|          | 0/2336 [00:00<?, ? Samples/s]"
     ]
    },
    {
     "name": "stdout",
     "output_type": "stream",
     "text": [
      "Blended done\n",
      "Initialised with 16 image(s) found.\n",
      "Output directory set to ./Fabrics_train_copy/Lut/output."
     ]
    },
    {
     "name": "stderr",
     "output_type": "stream",
     "text": [
      "Processing <PIL.Image.Image image mode=RGB size=120x120 at 0x118DD8940>: 100%|██████████| 2336/2336 [00:20<00:00, 302.02 Samples/s]\n",
      "Executing Pipeline:   0%|          | 0/2256 [00:00<?, ? Samples/s]"
     ]
    },
    {
     "name": "stdout",
     "output_type": "stream",
     "text": [
      "Lut done\n",
      "Initialised with 96 image(s) found.\n",
      "Output directory set to ./Fabrics_train_copy/Corduroy/output."
     ]
    },
    {
     "name": "stderr",
     "output_type": "stream",
     "text": [
      "Processing <PIL.Image.Image image mode=RGB size=120x120 at 0x118ED5D68>: 100%|██████████| 2256/2256 [00:21<00:00, 106.46 Samples/s]\n",
      "Executing Pipeline:   0%|          | 0/2332 [00:00<?, ? Samples/s]"
     ]
    },
    {
     "name": "stdout",
     "output_type": "stream",
     "text": [
      "Corduroy done\n",
      "Initialised with 20 image(s) found.\n",
      "Output directory set to ./Fabrics_train_copy/Suede/output."
     ]
    },
    {
     "name": "stderr",
     "output_type": "stream",
     "text": [
      "Processing <PIL.Image.Image image mode=RGB size=120x120 at 0x119200C88>: 100%|██████████| 2332/2332 [00:20<00:00, 112.21 Samples/s]\n",
      "Executing Pipeline:   0%|          | 0/2152 [00:00<?, ? Samples/s]"
     ]
    },
    {
     "name": "stdout",
     "output_type": "stream",
     "text": [
      "Suede done\n",
      "Initialised with 200 image(s) found.\n",
      "Output directory set to ./Fabrics_train_copy/Silk/output."
     ]
    },
    {
     "name": "stderr",
     "output_type": "stream",
     "text": [
      "Processing <PIL.Image.Image image mode=RGB size=120x120 at 0x1191690B8>: 100%|██████████| 2152/2152 [00:19<00:00, 109.25 Samples/s]\n",
      "Executing Pipeline:   0%|          | 0/2348 [00:00<?, ? Samples/s]"
     ]
    },
    {
     "name": "stdout",
     "output_type": "stream",
     "text": [
      "Silk done\n",
      "Initialised with 4 image(s) found.\n",
      "Output directory set to ./Fabrics_train_copy/Utilities/output."
     ]
    },
    {
     "name": "stderr",
     "output_type": "stream",
     "text": [
      "Processing <PIL.Image.Image image mode=RGB size=120x120 at 0x118F60550>: 100%|██████████| 2348/2348 [00:17<00:00, 136.22 Samples/s]\n",
      "Executing Pipeline:   0%|          | 0/2256 [00:00<?, ? Samples/s]"
     ]
    },
    {
     "name": "stdout",
     "output_type": "stream",
     "text": [
      "Utilities done\n",
      "Initialised with 96 image(s) found.\n",
      "Output directory set to ./Fabrics_train_copy/Satin/output."
     ]
    },
    {
     "name": "stderr",
     "output_type": "stream",
     "text": [
      "Processing <PIL.Image.Image image mode=RGB size=120x120 at 0x119248EB8>: 100%|██████████| 2256/2256 [00:20<00:00, 110.14 Samples/s]\n"
     ]
    },
    {
     "name": "stdout",
     "output_type": "stream",
     "text": [
      "Satin done\n"
     ]
    },
    {
     "name": "stderr",
     "output_type": "stream",
     "text": [
      "Processing <PIL.Image.Image image mode=RGB size=120x120 at 0x1191AC748>:   0%|          | 0/1704 [00:00<?, ? Samples/s]"
     ]
    },
    {
     "name": "stdout",
     "output_type": "stream",
     "text": [
      "Initialised with 648 image(s) found.\n",
      "Output directory set to ./Fabrics_train_copy/Denim/output."
     ]
    },
    {
     "name": "stderr",
     "output_type": "stream",
     "text": [
      "Processing <PIL.Image.Image image mode=RGB size=120x120 at 0x1190B9F98>: 100%|██████████| 1704/1704 [00:15<00:00, 109.37 Samples/s]\n",
      "Executing Pipeline:   0%|          | 0/2348 [00:00<?, ? Samples/s]"
     ]
    },
    {
     "name": "stdout",
     "output_type": "stream",
     "text": [
      "Denim done\n",
      "Initialised with 4 image(s) found.\n",
      "Output directory set to ./Fabrics_train_copy/Artificial_fur/output."
     ]
    },
    {
     "name": "stderr",
     "output_type": "stream",
     "text": [
      "Processing <PIL.Image.Image image mode=RGB size=120x120 at 0x1191C5748>: 100%|██████████| 2348/2348 [00:20<00:00, 113.85 Samples/s]\n",
      "Executing Pipeline:   0%|          | 0/2304 [00:00<?, ? Samples/s]"
     ]
    },
    {
     "name": "stdout",
     "output_type": "stream",
     "text": [
      "Artificial_fur done\n",
      "Initialised with 48 image(s) found.\n",
      "Output directory set to ./Fabrics_train_copy/Acrylic/output."
     ]
    },
    {
     "name": "stderr",
     "output_type": "stream",
     "text": [
      "Processing <PIL.Image.Image image mode=RGB size=120x120 at 0x119025710>: 100%|██████████| 2304/2304 [00:20<00:00, 110.50 Samples/s]\n",
      "Processing <PIL.Image.Image image mode=RGB size=120x120 at 0x119147D68>:   0%|          | 0/2288 [00:00<?, ? Samples/s]"
     ]
    },
    {
     "name": "stdout",
     "output_type": "stream",
     "text": [
      "Acrylic done\n",
      "Initialised with 64 image(s) found.\n",
      "Output directory set to ./Fabrics_train_copy/Leather/output."
     ]
    },
    {
     "name": "stderr",
     "output_type": "stream",
     "text": [
      "Processing <PIL.Image.Image image mode=RGB size=120x120 at 0x11902D5F8>: 100%|██████████| 2288/2288 [00:20<00:00, 112.35 Samples/s]\n",
      "Executing Pipeline:   0%|          | 0/2232 [00:00<?, ? Samples/s]"
     ]
    },
    {
     "name": "stdout",
     "output_type": "stream",
     "text": [
      "Leather done\n",
      "Initialised with 120 image(s) found.\n",
      "Output directory set to ./Fabrics_train_copy/Terrycloth/output."
     ]
    },
    {
     "name": "stderr",
     "output_type": "stream",
     "text": [
      "Processing <PIL.Image.Image image mode=RGB size=120x120 at 0x1190DBC50>: 100%|██████████| 2232/2232 [00:19<00:00, 113.65 Samples/s]\n",
      "Executing Pipeline:   0%|          | 0/2248 [00:00<?, ? Samples/s]"
     ]
    },
    {
     "name": "stdout",
     "output_type": "stream",
     "text": [
      "Terrycloth done\n",
      "Initialised with 104 image(s) found.\n",
      "Output directory set to ./Fabrics_train_copy/Crepe/output."
     ]
    },
    {
     "name": "stderr",
     "output_type": "stream",
     "text": [
      "Processing <PIL.Image.Image image mode=RGB size=120x120 at 0x118F84710>: 100%|██████████| 2248/2248 [00:20<00:00, 108.27 Samples/s]\n",
      "Executing Pipeline:   0%|          | 0/2276 [00:00<?, ? Samples/s]"
     ]
    },
    {
     "name": "stdout",
     "output_type": "stream",
     "text": [
      "Crepe done\n",
      "Initialised with 76 image(s) found.\n",
      "Output directory set to ./Fabrics_train_copy/Linen/output."
     ]
    },
    {
     "name": "stderr",
     "output_type": "stream",
     "text": [
      "Processing <PIL.Image.Image image mode=RGB size=120x120 at 0x1191A0128>: 100%|██████████| 2276/2276 [00:20<00:00, 111.45 Samples/s]\n",
      "Executing Pipeline:   0%|          | 0/2124 [00:00<?, ? Samples/s]"
     ]
    },
    {
     "name": "stdout",
     "output_type": "stream",
     "text": [
      "Linen done\n",
      "Initialised with 228 image(s) found.\n",
      "Output directory set to ./Fabrics_train_copy/Nylon/output."
     ]
    },
    {
     "name": "stderr",
     "output_type": "stream",
     "text": [
      "Processing <PIL.Image.Image image mode=RGB size=120x120 at 0x1146E4F28>: 100%|██████████| 2124/2124 [00:18<00:00, 113.00 Samples/s]\n"
     ]
    },
    {
     "name": "stdout",
     "output_type": "stream",
     "text": [
      "Nylon done\n",
      "all done\n"
     ]
    }
   ],
   "source": [
    "from pathlib import Path\n",
    "import shutil\n",
    "\n",
    "folder='./Fabrics_train_copy/'\n",
    "path=Path(folder)\n",
    "max_len=max([len([j for j in i.iterdir() if j.name.endswith(\".png\")]) for i in path.iterdir() if i.is_dir()])\n",
    "\n",
    "for i in path.iterdir():\n",
    "    if i.is_dir():\n",
    "        current_len=len([j for j in i.iterdir() if j.name.endswith('.png')])\n",
    "        generateData(folder+i.name,current_len,max_len)\n",
    "        \n",
    "#         move output to outside folder and rename files\n",
    "        \n",
    "        \n",
    "        print(i.name+' done')\n",
    "print(\"all done\")\n"
   ]
  }
 ],
 "metadata": {
  "kernelspec": {
   "display_name": "Python 3",
   "language": "python",
   "name": "python3"
  },
  "language_info": {
   "codemirror_mode": {
    "name": "ipython",
    "version": 3
   },
   "file_extension": ".py",
   "mimetype": "text/x-python",
   "name": "python",
   "nbconvert_exporter": "python",
   "pygments_lexer": "ipython3",
   "version": "3.7.1"
  }
 },
 "nbformat": 4,
 "nbformat_minor": 2
}
